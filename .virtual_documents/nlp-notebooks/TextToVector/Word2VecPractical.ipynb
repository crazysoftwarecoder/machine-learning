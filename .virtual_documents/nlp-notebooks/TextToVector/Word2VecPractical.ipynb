!pip install gensim


import gensim


from gensim.models import Word2Vec, KeyedVectors


import gensim.downloader as api
wv = api.load('word2vec-google-news-300')


print('hi')



