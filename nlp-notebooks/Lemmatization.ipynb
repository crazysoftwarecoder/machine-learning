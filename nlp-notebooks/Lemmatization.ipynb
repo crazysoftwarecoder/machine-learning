{
 "cells": [
  {
   "cell_type": "code",
   "execution_count": 4,
   "id": "28b6e3ba-f3fd-41d4-b160-cb4ff4ea5930",
   "metadata": {},
   "outputs": [
    {
     "name": "stderr",
     "output_type": "stream",
     "text": [
      "[nltk_data] Downloading package wordnet to\n",
      "[nltk_data]     /Users/ashwanthfernando/nltk_data...\n"
     ]
    },
    {
     "data": {
      "text/plain": [
       "True"
      ]
     },
     "execution_count": 4,
     "metadata": {},
     "output_type": "execute_result"
    }
   ],
   "source": [
    "from nltk.stem import WordNetLemmatizer\n",
    "import nltk\n",
    "nltk.download('wordnet')"
   ]
  },
  {
   "cell_type": "code",
   "execution_count": 5,
   "id": "8f21e119-983d-491a-9996-92d2b68b27e8",
   "metadata": {},
   "outputs": [],
   "source": [
    "lemmatizer = WordNetLemmatizer()"
   ]
  },
  {
   "cell_type": "code",
   "execution_count": 24,
   "id": "a3618cf8-bbeb-4e8e-9865-8a2608b014e2",
   "metadata": {},
   "outputs": [
    {
     "data": {
      "text/plain": [
       "'fairly'"
      ]
     },
     "execution_count": 24,
     "metadata": {},
     "output_type": "execute_result"
    }
   ],
   "source": [
    "lemmatizer.lemmatize('fairly', pos='s')"
   ]
  },
  {
   "cell_type": "code",
   "execution_count": 18,
   "id": "2f4159ef-535a-4989-a3f5-2a2c850797c0",
   "metadata": {},
   "outputs": [],
   "source": [
    "words = [\"eating\", \"eaten\", \"eat\", \"going\", \"gone\", \"goes\", \"writing\", \"written\", \"programming\", \"programs\"]"
   ]
  },
  {
   "cell_type": "code",
   "execution_count": 20,
   "id": "a80bb463-fcb8-4b3a-9832-d96499dc80de",
   "metadata": {},
   "outputs": [
    {
     "name": "stdout",
     "output_type": "stream",
     "text": [
      "eat\n",
      "eat\n",
      "eat\n",
      "go\n",
      "go\n",
      "go\n",
      "write\n",
      "write\n",
      "program\n",
      "program\n"
     ]
    }
   ],
   "source": [
    "for word in words:\n",
    "    print(lemmatizer.lemmatize(word, pos='v'))"
   ]
  },
  {
   "cell_type": "code",
   "execution_count": null,
   "id": "c2a374d4-ee15-4758-be74-e0dd19a95514",
   "metadata": {},
   "outputs": [],
   "source": []
  }
 ],
 "metadata": {
  "kernelspec": {
   "display_name": "Python 3 (ipykernel)",
   "language": "python",
   "name": "python3"
  },
  "language_info": {
   "codemirror_mode": {
    "name": "ipython",
    "version": 3
   },
   "file_extension": ".py",
   "mimetype": "text/x-python",
   "name": "python",
   "nbconvert_exporter": "python",
   "pygments_lexer": "ipython3",
   "version": "3.12.7"
  }
 },
 "nbformat": 4,
 "nbformat_minor": 5
}
