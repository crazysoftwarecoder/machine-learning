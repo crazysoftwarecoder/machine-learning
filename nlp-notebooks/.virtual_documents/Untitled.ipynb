!pip install nltk


corpus = """
Hello, Welcome to Ashwanth's course.
How are you doing today?
"""


print(corpus)


from nltk.tokenize import sent_tokenize


sent_tokenize(corpus)



