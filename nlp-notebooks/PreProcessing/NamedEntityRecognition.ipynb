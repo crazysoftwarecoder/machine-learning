{
 "cells": [
  {
   "cell_type": "code",
   "execution_count": 73,
   "id": "1054b569-420c-4b1b-ace4-9e5ae8466cce",
   "metadata": {},
   "outputs": [
    {
     "name": "stdout",
     "output_type": "stream",
     "text": [
      "Requirement already satisfied: svgling in /opt/anaconda3/lib/python3.12/site-packages (0.5.0)\n",
      "Requirement already satisfied: svgwrite in /opt/anaconda3/lib/python3.12/site-packages (from svgling) (1.4.3)\n"
     ]
    }
   ],
   "source": [
    "!pip install svgling"
   ]
  },
  {
   "cell_type": "code",
   "execution_count": 74,
   "id": "8ce57981-1747-4287-b3b6-ca34913e6a0a",
   "metadata": {},
   "outputs": [],
   "source": [
    "sentence = \"I would like to buy some sneakers from ebay\""
   ]
  },
  {
   "cell_type": "code",
   "execution_count": 75,
   "id": "2f1cbcc7-453a-4f55-ad30-0c6b14f0244e",
   "metadata": {},
   "outputs": [
    {
     "name": "stderr",
     "output_type": "stream",
     "text": [
      "[nltk_data] Downloading package maxent_ne_chunker_tab to\n",
      "[nltk_data]     /Users/ashwanthfernando/nltk_data...\n",
      "[nltk_data]   Package maxent_ne_chunker_tab is already up-to-date!\n",
      "[nltk_data] Downloading package words to\n",
      "[nltk_data]     /Users/ashwanthfernando/nltk_data...\n",
      "[nltk_data]   Package words is already up-to-date!\n"
     ]
    },
    {
     "data": {
      "text/plain": [
       "True"
      ]
     },
     "execution_count": 75,
     "metadata": {},
     "output_type": "execute_result"
    }
   ],
   "source": [
    "import nltk\n",
    "nltk.download('maxent_ne_chunker_tab')\n",
    "nltk.download('words')"
   ]
  },
  {
   "cell_type": "code",
   "execution_count": 83,
   "id": "0df33d2d-1a1c-4e62-a8f6-27f7c36329f6",
   "metadata": {},
   "outputs": [],
   "source": [
    "sentence = \"I would like to buy some sneakers from ebay\"\n",
    "words = nltk.word_tokenize(sentence)\n",
    "tagged_elements=nltk.pos_tag(words)\n",
    "tree = nltk.ne_chunk(tagged_elements)\n",
    "tree.draw()"
   ]
  },
  {
   "cell_type": "code",
   "execution_count": 81,
   "id": "470b5e9d-6730-4cd2-a304-457718ece5de",
   "metadata": {},
   "outputs": [
    {
     "name": "stdout",
     "output_type": "stream",
     "text": [
      "Subject: sneakers\n",
      "Action: like\n"
     ]
    }
   ],
   "source": [
    "import nltk\n",
    "from nltk import pos_tag, word_tokenize, ne_chunk, Tree\n",
    "\n",
    "def extract_intent(tree: Tree) -> tuple:\n",
    "    \"\"\"\n",
    "    Extracts the subject and action from a named entity chunked tree.\n",
    "\n",
    "    Args:\n",
    "        tree (Tree): An NLTK Tree object representing a named entity chunked sentence.\n",
    "\n",
    "    Returns:\n",
    "        tuple: A tuple containing the subject and action as strings.\n",
    "    \"\"\"\n",
    "    subject = None\n",
    "    action = None\n",
    "\n",
    "    for subtree in tree:\n",
    "        if isinstance(subtree, Tree):\n",
    "            if subtree.label() == 'NP':  # Noun Phrase\n",
    "                subject = ' '.join(leaf[0] for leaf in subtree.leaves())\n",
    "            elif subtree.label() == 'VP':  # Verb Phrase\n",
    "                for vp_subtree in subtree:\n",
    "                    if isinstance(vp_subtree, Tree) and vp_subtree.label().startswith('VB'):  # Verb\n",
    "                        action = ' '.join(leaf[0] for leaf in vp_subtree.leaves())\n",
    "        else:\n",
    "            # Handle flat structure where subtree is a tuple (word, POS)\n",
    "            word, pos = subtree\n",
    "            if pos.startswith('VB') and action is None:\n",
    "                action = word\n",
    "            elif pos.startswith('NN') and subject is None:\n",
    "                subject = word\n",
    "\n",
    "    return subject, action\n",
    "\n",
    "subject, action = extract_intent(tree)\n",
    "print(f\"Subject: {subject}\")\n",
    "print(f\"Action: {action}\")"
   ]
  },
  {
   "cell_type": "code",
   "execution_count": null,
   "id": "5f210f70-6365-43a1-80e4-6bb512719fd2",
   "metadata": {},
   "outputs": [],
   "source": []
  },
  {
   "cell_type": "code",
   "execution_count": null,
   "id": "29a936fe-87c6-4b2a-bc5b-393a0e02a5ae",
   "metadata": {},
   "outputs": [],
   "source": []
  }
 ],
 "metadata": {
  "kernelspec": {
   "display_name": "Python 3 (ipykernel)",
   "language": "python",
   "name": "python3"
  },
  "language_info": {
   "codemirror_mode": {
    "name": "ipython",
    "version": 3
   },
   "file_extension": ".py",
   "mimetype": "text/x-python",
   "name": "python",
   "nbconvert_exporter": "python",
   "pygments_lexer": "ipython3",
   "version": "3.12.7"
  }
 },
 "nbformat": 4,
 "nbformat_minor": 5
}
