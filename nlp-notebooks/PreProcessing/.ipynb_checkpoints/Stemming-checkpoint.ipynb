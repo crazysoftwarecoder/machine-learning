{
 "cells": [
  {
   "cell_type": "code",
   "execution_count": 153,
   "id": "25b64c39-ba05-407f-b486-f273de9b59ed",
   "metadata": {},
   "outputs": [
    {
     "name": "stdout",
     "output_type": "stream",
     "text": [
      "Requirement already satisfied: nltk in /opt/anaconda3/lib/python3.12/site-packages (3.9.1)\n",
      "Requirement already satisfied: click in /opt/anaconda3/lib/python3.12/site-packages (from nltk) (8.1.7)\n",
      "Requirement already satisfied: joblib in /opt/anaconda3/lib/python3.12/site-packages (from nltk) (1.4.2)\n",
      "Requirement already satisfied: regex>=2021.8.3 in /opt/anaconda3/lib/python3.12/site-packages (from nltk) (2024.9.11)\n",
      "Requirement already satisfied: tqdm in /opt/anaconda3/lib/python3.12/site-packages (from nltk) (4.66.5)\n",
      "Requirement already satisfied: nltk in /opt/anaconda3/lib/python3.12/site-packages (3.9.1)\n",
      "Requirement already satisfied: click in /opt/anaconda3/lib/python3.12/site-packages (from nltk) (8.1.7)\n",
      "Requirement already satisfied: joblib in /opt/anaconda3/lib/python3.12/site-packages (from nltk) (1.4.2)\n",
      "Requirement already satisfied: regex>=2021.8.3 in /opt/anaconda3/lib/python3.12/site-packages (from nltk) (2024.9.11)\n",
      "Requirement already satisfied: tqdm in /opt/anaconda3/lib/python3.12/site-packages (from nltk) (4.66.5)\n"
     ]
    }
   ],
   "source": [
    "## Stemming words\n",
    "!pip install nltk\n",
    "!pip install --upgrade nltk\n",
    "words = [\"eating\", \"eaten\", \"eat\", \"going\", \"gone\", \"goes\", \"writing\", \"written\", \"programming\", \"programs\"]"
   ]
  },
  {
   "cell_type": "code",
   "execution_count": 149,
   "id": "ea206040-59ef-4c1b-b30b-cb9314fd8ebf",
   "metadata": {},
   "outputs": [],
   "source": [
    "#PorterStemmer\n",
    "\n",
    "from nltk.stem import PorterStemmer, RegexpStemmer, SnowballStemmer"
   ]
  },
  {
   "cell_type": "code",
   "execution_count": 143,
   "id": "43dcdc66-fefb-44f5-a83b-4345cbfb7e70",
   "metadata": {},
   "outputs": [],
   "source": [
    "stemming=PorterStemmer()"
   ]
  },
  {
   "cell_type": "code",
   "execution_count": 144,
   "id": "7b6b8c17-14fc-4012-bf4f-1d7f432a30da",
   "metadata": {
    "scrolled": true
   },
   "outputs": [
    {
     "name": "stdout",
     "output_type": "stream",
     "text": [
      "eating---->eat\n",
      "eaten---->eaten\n",
      "eat---->eat\n",
      "going---->go\n",
      "gone---->gone\n",
      "goes---->goe\n",
      "writing---->write\n",
      "written---->written\n",
      "programming---->program\n",
      "programs---->program\n"
     ]
    }
   ],
   "source": [
    "for word in words:\n",
    "    print(word + \"---->\" + stemming.stem(word))"
   ]
  },
  {
   "cell_type": "code",
   "execution_count": 145,
   "id": "bc06edef-fb99-42e6-bce7-67fcae80f0f7",
   "metadata": {
    "scrolled": true
   },
   "outputs": [
    {
     "name": "stdout",
     "output_type": "stream",
     "text": [
      "['ARLSTem', 'ARLSTem2', 'Cistem', 'ISRIStemmer', 'LancasterStemmer', 'PorterStemmer', 'RSLPStemmer', 'RegexpStemmer', 'SnowballStemmer', 'StemmerI', 'WordNetLemmatizer', 'api', 'arlstem', 'arlstem2', 'cistem', 'isri', 'lancaster', 'porter', 'regexp', 'rslp', 'snowball', 'util', 'wordnet']\n"
     ]
    }
   ],
   "source": [
    "import nltk.stem\n",
    "\n",
    "stem_classes = dir(nltk.stem)\n",
    "\n",
    "# Filter out only the classes (ignoring private and special methods)\n",
    "stem_classes = [cls for cls in stem_classes if not cls.startswith('_')]\n",
    "\n",
    "# Display the classes\n",
    "print(stem_classes)"
   ]
  },
  {
   "cell_type": "raw",
   "id": "f198032a-a856-4a8d-9726-348bfc35e606",
   "metadata": {},
   "source": []
  },
  {
   "cell_type": "code",
   "execution_count": 154,
   "id": "218838b2-8407-411f-8406-1f5fcee86efa",
   "metadata": {},
   "outputs": [
    {
     "name": "stdout",
     "output_type": "stream",
     "text": [
      "['eat', 'eaten', 'eat', 'go', 'gon', 'goe', 'writ', 'written', 'programm', 'program']\n"
     ]
    }
   ],
   "source": [
    "stemmer = RegexpStemmer('ing$|s$|e$', min=4)\n",
    "\n",
    "stemmed_words = [stemmer.stem(word) for word in words]\n",
    "\n",
    "print(stemmed_words)"
   ]
  },
  {
   "cell_type": "code",
   "execution_count": 155,
   "id": "d37f9c24-1001-4b90-bbee-e1900b0b468f",
   "metadata": {},
   "outputs": [],
   "source": [
    "stemmer = SnowballStemmer('english')"
   ]
  },
  {
   "cell_type": "code",
   "execution_count": 156,
   "id": "cf3b09c9-4c3c-42ed-86ac-b64654aa0661",
   "metadata": {},
   "outputs": [
    {
     "name": "stdout",
     "output_type": "stream",
     "text": [
      "eating----->eat\n",
      "eaten----->eaten\n",
      "eat----->eat\n",
      "going----->go\n",
      "gone----->gone\n",
      "goes----->goe\n",
      "writing----->write\n",
      "written----->written\n",
      "programming----->program\n",
      "programs----->program\n"
     ]
    }
   ],
   "source": [
    "for word in words:\n",
    "    print(word + \"----->\" + stemmer.stem(word))"
   ]
  },
  {
   "cell_type": "code",
   "execution_count": null,
   "id": "6f37fa0a-7044-4df0-a7c1-04db08a1bf0d",
   "metadata": {},
   "outputs": [],
   "source": []
  }
 ],
 "metadata": {
  "kernelspec": {
   "display_name": "Python 3 (ipykernel)",
   "language": "python",
   "name": "python3"
  },
  "language_info": {
   "codemirror_mode": {
    "name": "ipython",
    "version": 3
   },
   "file_extension": ".py",
   "mimetype": "text/x-python",
   "name": "python",
   "nbconvert_exporter": "python",
   "pygments_lexer": "ipython3",
   "version": "3.12.7"
  }
 },
 "nbformat": 4,
 "nbformat_minor": 5
}
