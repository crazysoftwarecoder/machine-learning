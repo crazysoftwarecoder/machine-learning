{
 "cells": [
  {
   "cell_type": "code",
   "execution_count": 1,
   "id": "99a3454f-35dc-490c-8ef8-3905b6d2776f",
   "metadata": {},
   "outputs": [],
   "source": [
    "import pandas as pd\n",
    "import sklearn\n",
    "messages = pd.read_csv('spam/spam.csv',sep='\\t', names=['label','message'])\n"
   ]
  },
  {
   "cell_type": "code",
   "execution_count": 3,
   "id": "4fe9d19b-43c8-4379-99f4-efbf331de63b",
   "metadata": {},
   "outputs": [
    {
     "name": "stderr",
     "output_type": "stream",
     "text": [
      "[nltk_data] Downloading package stopwords to\n",
      "[nltk_data]     /Users/ashwanthfernando/nltk_data...\n",
      "[nltk_data]   Package stopwords is already up-to-date!\n"
     ]
    },
    {
     "data": {
      "text/plain": [
       "True"
      ]
     },
     "execution_count": 3,
     "metadata": {},
     "output_type": "execute_result"
    }
   ],
   "source": [
    "## Data cleaning and pre-processing\n",
    "import re\n",
    "import nltk\n",
    "nltk.download('stopwords')"
   ]
  },
  {
   "cell_type": "code",
   "execution_count": 9,
   "id": "f28d0703-4b71-47f4-ab91-3aecef08fd8b",
   "metadata": {},
   "outputs": [],
   "source": [
    "from nltk.corpus import stopwords\n",
    "from nltk.stem import WordNetLemmatizer\n",
    "lemmatize = WordNetLemmatizer()"
   ]
  },
  {
   "cell_type": "code",
   "execution_count": 10,
   "id": "075da4e7-efd3-4cee-a1bf-6db4e6643f82",
   "metadata": {},
   "outputs": [],
   "source": [
    "corpus = []\n",
    "for i in range(0, len(messages)):\n",
    "    review = re.sub('[^a-zA-Z]',' ', messages['message'][i])\n",
    "    review = review.lower()\n",
    "    review = review.split()\n",
    "    review = [lemmatize.lemmatize(word) for word in review if not word in stopwords.words('english')]\n",
    "    review = ' '.join(review)\n",
    "    corpus.append(review)"
   ]
  },
  {
   "cell_type": "code",
   "execution_count": 13,
   "id": "164ff681-f52e-4222-a0ff-4c4ce344b738",
   "metadata": {},
   "outputs": [],
   "source": [
    "from sklearn.feature_extraction.text import TfidfVectorizer"
   ]
  },
  {
   "cell_type": "code",
   "execution_count": 18,
   "id": "4f7acb03-91ae-4c86-a25d-1c6d4b875e97",
   "metadata": {},
   "outputs": [],
   "source": [
    "tfidf = TfidfVectorizer(max_features=25)\n",
    "X = tfidf.fit_transform(corpus).toarray()"
   ]
  },
  {
   "cell_type": "code",
   "execution_count": 19,
   "id": "f48544c7-55ae-42a4-81e8-8dd13eaaf2b4",
   "metadata": {},
   "outputs": [],
   "source": [
    "import numpy as np\n",
    "np.set_printoptions(edgeitems=30, linewidth=100000, formatter=dict(float=lambda x: \"%.3g\" % x))"
   ]
  },
  {
   "cell_type": "code",
   "execution_count": 26,
   "id": "7ab8bc9c-2dc7-4548-accb-93a3a8d3c394",
   "metadata": {},
   "outputs": [
    {
     "data": {
      "text/plain": [
       "{'go': 5,\n",
       " 'got': 8,\n",
       " 'ok': 15,\n",
       " 'free': 3,\n",
       " 'text': 19,\n",
       " 'txt': 22,\n",
       " 'like': 11,\n",
       " 'send': 17,\n",
       " 'call': 0,\n",
       " 'want': 24,\n",
       " 'today': 21,\n",
       " 'day': 2,\n",
       " 'time': 20,\n",
       " 'ur': 23,\n",
       " 'going': 6,\n",
       " 'know': 10,\n",
       " 'love': 12,\n",
       " 'need': 14,\n",
       " 'lt': 13,\n",
       " 'gt': 9,\n",
       " 'get': 4,\n",
       " 'good': 7,\n",
       " 'come': 1,\n",
       " 'stop': 18,\n",
       " 'one': 16}"
      ]
     },
     "execution_count": 26,
     "metadata": {},
     "output_type": "execute_result"
    }
   ],
   "source": [
    "tfidf.vocabulary_"
   ]
  },
  {
   "cell_type": "code",
   "execution_count": 33,
   "id": "ac0109d0-7635-482d-87d9-b3b728b0a0f3",
   "metadata": {},
   "outputs": [],
   "source": [
    "#Ngrams\n",
    "tfidf = TfidfVectorizer(max_features=25, ngram_range=(3,3))\n",
    "X = tfidf.fit_transform(corpus).toarray()"
   ]
  },
  {
   "cell_type": "code",
   "execution_count": 34,
   "id": "093dd3e5-a0fc-4f03-9457-0318bd4dd8e5",
   "metadata": {},
   "outputs": [
    {
     "data": {
      "text/plain": [
       "{'like lt gt': 11,\n",
       " 'sorry call later': 22,\n",
       " 'call customer service': 1,\n",
       " 'draw show prize': 5,\n",
       " 'show prize guaranteed': 20,\n",
       " 'prize guaranteed call': 19,\n",
       " 'private account statement': 18,\n",
       " 'account statement show': 0,\n",
       " 'call identifier code': 2,\n",
       " 'identifier code expires': 9,\n",
       " 'lt decimal gt': 13,\n",
       " 'phone right pls': 16,\n",
       " 'pls send message': 17,\n",
       " 'suite land row': 23,\n",
       " 'lt gt min': 15,\n",
       " 'guaranteed call land': 7,\n",
       " 'call land line': 3,\n",
       " 'land line claim': 10,\n",
       " 'line claim valid': 12,\n",
       " 'claim valid hr': 4,\n",
       " 'lt gt lt': 14,\n",
       " 'gt lt gt': 6,\n",
       " 'show un redeemed': 21,\n",
       " 'un redeemed point': 24,\n",
       " 'happy new year': 8}"
      ]
     },
     "execution_count": 34,
     "metadata": {},
     "output_type": "execute_result"
    }
   ],
   "source": [
    "tfidf.vocabulary_"
   ]
  },
  {
   "cell_type": "code",
   "execution_count": null,
   "id": "55ef03e6-3ebe-4f45-b907-5433298868c1",
   "metadata": {},
   "outputs": [],
   "source": []
  }
 ],
 "metadata": {
  "kernelspec": {
   "display_name": "Python 3 (ipykernel)",
   "language": "python",
   "name": "python3"
  },
  "language_info": {
   "codemirror_mode": {
    "name": "ipython",
    "version": 3
   },
   "file_extension": ".py",
   "mimetype": "text/x-python",
   "name": "python",
   "nbconvert_exporter": "python",
   "pygments_lexer": "ipython3",
   "version": "3.12.7"
  }
 },
 "nbformat": 4,
 "nbformat_minor": 5
}
