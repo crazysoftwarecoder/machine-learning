{
 "cells": [
  {
   "cell_type": "code",
   "execution_count": 41,
   "id": "38df4ce4-4034-4890-a925-bf611e9506be",
   "metadata": {},
   "outputs": [],
   "source": [
    "import pandas as pd\n",
    "import sklearn\n",
    "messages = pd.read_csv('spam/spam.csv',sep='\\t', names=['label','message'])\n"
   ]
  },
  {
   "cell_type": "code",
   "execution_count": 42,
   "id": "8f143d04-697a-4e2d-a7b2-afe9d2244f79",
   "metadata": {},
   "outputs": [
    {
     "name": "stderr",
     "output_type": "stream",
     "text": [
      "[nltk_data] Downloading package stopwords to\n",
      "[nltk_data]     /Users/ashwanthfernando/nltk_data...\n",
      "[nltk_data]   Package stopwords is already up-to-date!\n"
     ]
    },
    {
     "data": {
      "text/plain": [
       "True"
      ]
     },
     "execution_count": 42,
     "metadata": {},
     "output_type": "execute_result"
    }
   ],
   "source": [
    "## Data cleaning and pre-processing\n",
    "import re\n",
    "import nltk\n",
    "nltk.download('stopwords')"
   ]
  },
  {
   "cell_type": "code",
   "execution_count": 76,
   "id": "6ded9a8d-58ed-4fb0-94a8-a2b7b1b4d80e",
   "metadata": {},
   "outputs": [],
   "source": [
    "from nltk.corpus import stopwords\n",
    "from nltk.stem.porter import PorterStemmer\n",
    "ps = PorterStemmer()"
   ]
  },
  {
   "cell_type": "code",
   "execution_count": 77,
   "id": "42137f78-aa64-4b7f-b468-f76ae056b1d9",
   "metadata": {},
   "outputs": [],
   "source": [
    "corpus = []\n",
    "for i in range(0, len(messages)):\n",
    "    review = re.sub('[^a-zA-Z]',' ', messages['message'][i])\n",
    "    review = review.lower()\n",
    "    review = review.split()\n",
    "    review = [ps.stem(word) for word in review if not word in stopwords.words('english')]\n",
    "    review = ' '.join(review)\n",
    "    corpus.append(review)"
   ]
  },
  {
   "cell_type": "code",
   "execution_count": 78,
   "id": "2eff5b71-67ac-4716-b734-11e10670b908",
   "metadata": {},
   "outputs": [
    {
     "data": {
      "text/plain": [
       "5572"
      ]
     },
     "execution_count": 78,
     "metadata": {},
     "output_type": "execute_result"
    }
   ],
   "source": [
    "len(corpus)"
   ]
  },
  {
   "cell_type": "code",
   "execution_count": 79,
   "id": "cb543488-f5ef-4a8c-90e6-0a98dbfa504c",
   "metadata": {},
   "outputs": [],
   "source": [
    "from sklearn.feature_extraction.text import CountVectorizer\n",
    "cv=CountVectorizer(max_features=2500, binary=True)"
   ]
  },
  {
   "cell_type": "code",
   "execution_count": 62,
   "id": "609debf3-fd2b-4889-995f-b09ce047aa97",
   "metadata": {},
   "outputs": [],
   "source": [
    "X=cv.fit_transform(corpus).toarray()"
   ]
  },
  {
   "cell_type": "code",
   "execution_count": 63,
   "id": "b4feafd6-af3b-4f64-9050-d76a66debf91",
   "metadata": {},
   "outputs": [
    {
     "data": {
      "text/plain": [
       "array([[0, 0, 0, ..., 0, 0, 0],\n",
       "       [0, 0, 0, ..., 0, 0, 0],\n",
       "       [0, 0, 0, ..., 0, 0, 0],\n",
       "       ...,\n",
       "       [0, 0, 0, ..., 0, 0, 0],\n",
       "       [0, 0, 0, ..., 0, 0, 0],\n",
       "       [0, 0, 0, ..., 0, 0, 0]])"
      ]
     },
     "execution_count": 63,
     "metadata": {},
     "output_type": "execute_result"
    }
   ],
   "source": [
    "X"
   ]
  },
  {
   "cell_type": "code",
   "execution_count": null,
   "id": "d6484be7-f19b-41ee-8466-76a09dd258ca",
   "metadata": {},
   "outputs": [],
   "source": []
  },
  {
   "cell_type": "code",
   "execution_count": 71,
   "id": "449eb503-ded8-4362-9812-8840c935fc0f",
   "metadata": {},
   "outputs": [],
   "source": [
    "from sklearn.feature_extraction.text import CountVectorizer\n",
    "cv=CountVectorizer(max_features=100, binary=True, ngram_range=(4,4))\n",
    "X = cv.fit_transform(corpus).toarray()"
   ]
  },
  {
   "cell_type": "code",
   "execution_count": 72,
   "id": "7fc38651-73a4-4ae0-8254-ade2dca10194",
   "metadata": {},
   "outputs": [
    {
     "data": {
      "text/plain": [
       "{'entitl updat latest colour': 24,\n",
       " 'sorri call later meet': 74,\n",
       " 'pleas call custom servic': 58,\n",
       " 'call custom servic repres': 5,\n",
       " 'pm guarante cash prize': 59,\n",
       " 'draw show prize guarante': 23,\n",
       " 'show prize guarante call': 72,\n",
       " 'speak live oper claim': 75,\n",
       " 'privat account statement show': 65,\n",
       " 'call identifi code expir': 6,\n",
       " 'number end select receiv': 54,\n",
       " 'friend repli ye see': 30,\n",
       " 'stop send stop frnd': 79,\n",
       " 'secret admir look make': 71,\n",
       " 'admir look make contact': 1,\n",
       " 'look make contact find': 42,\n",
       " 'make contact find reveal': 45,\n",
       " 'contact find reveal think': 17,\n",
       " 'find reveal think ur': 27,\n",
       " 'reveal think ur special': 69,\n",
       " 'think ur special call': 83,\n",
       " 'music tnc www ldew': 50,\n",
       " 'cant pick phone right': 12,\n",
       " 'pick phone right pl': 57,\n",
       " 'phone right pl send': 56,\n",
       " 'right pl send messag': 70,\n",
       " 'latest colour camera mobil': 40,\n",
       " 'current pound maxim ur': 21,\n",
       " 'pound maxim ur cash': 64,\n",
       " 'maxim ur cash send': 46,\n",
       " 'hg suit land row': 35,\n",
       " 'suit land row hl': 80,\n",
       " 'call mobileupd call optout': 8,\n",
       " 'urgent mobil number award': 94,\n",
       " 'prize guarante call land': 67,\n",
       " 'guarante call land line': 33,\n",
       " 'call land line claim': 7,\n",
       " 'land line claim valid': 38,\n",
       " 'line claim valid hr': 41,\n",
       " 'lt gt lt gt': 43,\n",
       " 'bonu caller prize nd': 3,\n",
       " 'caller prize nd attempt': 11,\n",
       " 'claim ur worth discount': 15,\n",
       " 'ur worth discount voucher': 93,\n",
       " 'account statement show un': 0,\n",
       " 'statement show un redeem': 77,\n",
       " 'show un redeem point': 73,\n",
       " 'un redeem point call': 90,\n",
       " 'redeem point call identifi': 68,\n",
       " 'point call identifi code': 63,\n",
       " 'free st week nokia': 29,\n",
       " 'st week nokia tone': 76,\n",
       " 'week nokia tone ur': 96,\n",
       " 'everi week txt nokia': 25,\n",
       " 'week txt nokia get': 97,\n",
       " 'txt nokia get txting': 87,\n",
       " 'nokia get txting tell': 51,\n",
       " 'get txting tell ur': 31,\n",
       " 'txting tell ur mate': 88,\n",
       " 'tell ur mate www': 81,\n",
       " 'ur mate www getz': 91,\n",
       " 'www getz co uk': 98,\n",
       " 'getz co uk pobox': 32,\n",
       " 'co uk pobox wq': 16,\n",
       " 'uk pobox wq norm': 89,\n",
       " 'pobox wq norm tone': 62,\n",
       " 'holiday cash await collect': 37,\n",
       " 'cash await collect sae': 13,\n",
       " 'await collect sae cs': 2,\n",
       " 'half price line rental': 34,\n",
       " 'urgent tri contact today': 95,\n",
       " 'tri contact today draw': 86,\n",
       " 'contact today draw show': 18,\n",
       " 'today draw show prize': 84,\n",
       " 'nokia tone ur mob': 52,\n",
       " 'tone ur mob everi': 85,\n",
       " 'ur mob everi week': 92,\n",
       " 'mob everi week txt': 49,\n",
       " 'find log onto http': 26,\n",
       " 'land row hl ldn': 39,\n",
       " 'min stop text call': 48,\n",
       " 'call per min ntt': 9,\n",
       " 'per min ntt ltd': 55,\n",
       " 'min ntt ltd po': 47,\n",
       " 'ntt ltd po box': 53,\n",
       " 'ltd po box croydon': 44,\n",
       " 'po box croydon cr': 60,\n",
       " 'box croydon cr wb': 4,\n",
       " 'prize claim easi call': 66,\n",
       " 'claim easi call per': 14,\n",
       " 'costa del sol holiday': 20,\n",
       " 'del sol holiday await': 22,\n",
       " 'holiday await collect call': 36,\n",
       " 'call toclaim sae tc': 10,\n",
       " 'pobox stockport sk xh': 61,\n",
       " 'stockport sk xh cost': 78,\n",
       " 'xh cost pm max': 99,\n",
       " 'cost pm max min': 19,\n",
       " 'text free camcord repli': 82,\n",
       " 'free camcord repli call': 28}"
      ]
     },
     "execution_count": 72,
     "metadata": {},
     "output_type": "execute_result"
    }
   ],
   "source": [
    "cv.vocabulary_"
   ]
  },
  {
   "cell_type": "code",
   "execution_count": 73,
   "id": "25f7086f-3a54-4638-a532-7a6b142cd914",
   "metadata": {},
   "outputs": [
    {
     "data": {
      "text/plain": [
       "array([[0, 0, 0, ..., 0, 0, 0],\n",
       "       [0, 0, 0, ..., 0, 0, 0],\n",
       "       [0, 0, 0, ..., 0, 0, 0],\n",
       "       ...,\n",
       "       [0, 0, 0, ..., 0, 0, 0],\n",
       "       [0, 0, 0, ..., 0, 0, 0],\n",
       "       [0, 0, 0, ..., 0, 0, 0]])"
      ]
     },
     "execution_count": 73,
     "metadata": {},
     "output_type": "execute_result"
    }
   ],
   "source": [
    "X"
   ]
  },
  {
   "cell_type": "code",
   "execution_count": null,
   "id": "9a556ef5-4d9e-4791-be92-1683a2f48485",
   "metadata": {},
   "outputs": [],
   "source": []
  }
 ],
 "metadata": {
  "kernelspec": {
   "display_name": "Python 3 (ipykernel)",
   "language": "python",
   "name": "python3"
  },
  "language_info": {
   "codemirror_mode": {
    "name": "ipython",
    "version": 3
   },
   "file_extension": ".py",
   "mimetype": "text/x-python",
   "name": "python",
   "nbconvert_exporter": "python",
   "pygments_lexer": "ipython3",
   "version": "3.12.7"
  }
 },
 "nbformat": 4,
 "nbformat_minor": 5
}
